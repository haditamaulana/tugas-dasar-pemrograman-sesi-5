{
 "cells": [
  {
   "cell_type": "code",
   "execution_count": 8,
   "id": "cac357d5",
   "metadata": {},
   "outputs": [
    {
     "name": "stdout",
     "output_type": "stream",
     "text": [
      "masukkan nama lengkap : hadita maulana\n",
      "masukkan kelas : ti22e\n",
      "masukkan nim : 20220040013\n",
      "masukkan alamat : lembursitu\n",
      "\n",
      "\n",
      "NAMA  : HADITA MAULANA\n",
      "KELAS : TI22E\n",
      "NIM   : 20220040013\n",
      "ALAMAT: LEMBURSITU\n"
     ]
    }
   ],
   "source": [
    "nama = input(\"masukkan nama lengkap : \")\n",
    "kelas = input(\"masukkan kelas : \")\n",
    "nim = input(\"masukkan nim : \")\n",
    "alamat = input(\"masukkan alamat : \")\n",
    "\n",
    "print(\"\\n\")\n",
    "print(\"nama  : \".upper() + format(nama.upper() ))\n",
    "print(\"kelas : \".upper() + format(kelas.upper( )))\n",
    "print(\"nim   : \".upper() + format(nim.upper() ))\n",
    "print(\"alamat: \".upper() + format(alamat.upper() ))"
   ]
  }
 ],
 "metadata": {
  "kernelspec": {
   "display_name": "Python 3 (ipykernel)",
   "language": "python",
   "name": "python3"
  },
  "language_info": {
   "codemirror_mode": {
    "name": "ipython",
    "version": 3
   },
   "file_extension": ".py",
   "mimetype": "text/x-python",
   "name": "python",
   "nbconvert_exporter": "python",
   "pygments_lexer": "ipython3",
   "version": "3.10.2"
  }
 },
 "nbformat": 4,
 "nbformat_minor": 5
}
